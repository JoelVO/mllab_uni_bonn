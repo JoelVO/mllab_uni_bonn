{
 "cells": [
  {
   "cell_type": "code",
   "execution_count": 68,
   "id": "e013e80e",
   "metadata": {},
   "outputs": [],
   "source": [
    "import numpy as np\n",
    "import matplotlib.pyplot as plt\n",
    "from matplotlib import style\n",
    "from matplotlib import rcParams"
   ]
  },
  {
   "cell_type": "markdown",
   "id": "8fe581b1",
   "metadata": {},
   "source": [
    "# Task 1.0"
   ]
  },
  {
   "cell_type": "code",
   "execution_count": 69,
   "id": "ae1c8b48",
   "metadata": {},
   "outputs": [],
   "source": [
    "z = np.random.choice([0,1,2],10000)\n",
    "\n",
    "def loop_function(x):\n",
    "    '''\n",
    "    The idea of this function is have a variable \"count\" which will sum 1 every time we find the subsequence\n",
    "    while reading the values on our input x.\n",
    "    '''\n",
    "    \n",
    "    count = 0 \n",
    "    for i in range(len(x)-2): \n",
    "        if x[i] == 2 and x[i+1] == 0 and x[i+2] == 1: \n",
    "            count += 1 \n",
    "            \n",
    "    return count\n",
    "\n",
    "def vectorized_function(x):\n",
    "    '''\n",
    "    On the vectorized version of the solution, we remember that numpy.logical_and operates entry-wise, so taking our \n",
    "    input array x, we create two sub-arrays x1 and x2 such that they begin on the entries 1 and 2 of x respectively,\n",
    "    remembering python start to count entries from 0. In order for x1 and x2 to have the same length as x,\n",
    "    we add some -1 values at the end; we choose this values because they do not appear on the original sequence, so\n",
    "    there is no chance this would create an artificial subsequence.\n",
    "    \n",
    "    Then we look for the entries in which x is equal to 2, x1 to 0 and x2 to 1 and use np.logical_and\n",
    "    to look for the entries in which the three equations are true, being those the cases in which we have our\n",
    "    searched subsequence. \n",
    "    \n",
    "    Since python takes True as 1, summing the resulting vector is the same to count how many True values it has.\n",
    "    '''\n",
    "    x1,x2 = np.append(x[1:],-1),np.concatenate((x[2:],[-1,-1]))\n",
    "    r = np.logical_and(x == 2,x1 == 0)\n",
    "    r = np.logical_and(r,x2 == 1)\n",
    "    return np.sum(r)"
   ]
  },
  {
   "cell_type": "markdown",
   "id": "daec62b3",
   "metadata": {},
   "source": [
    "# Task 1.1"
   ]
  },
  {
   "cell_type": "markdown",
   "id": "eb450085",
   "metadata": {},
   "source": [
    "## a)"
   ]
  },
  {
   "cell_type": "code",
   "execution_count": 70,
   "id": "e27e5562",
   "metadata": {},
   "outputs": [
    {
     "data": {
      "image/png": "[encoded data removed]",
      "text/plain": [
       "<Figure size 504x504 with 1 Axes>"
      ]
     },
     "metadata": {},
     "output_type": "display_data"
    }
   ],
   "source": [
    "style.use('ggplot')\n",
    "rcParams['figure.figsize'] = (7.0, 7.0)\n",
    "\n",
    "# Generating random variables with normal distributions\n",
    "a = np.random.multivariate_normal([3/2,0],np.eye(2),10)\n",
    "b = np.random.multivariate_normal([0,3/2],np.eye(2),10)\n",
    "\n",
    "#Plotting the values\n",
    "plt.scatter(a[...,0],a[...,1],label = 'a')\n",
    "plt.scatter(b[...,0],b[...,1],label = 'b')\n",
    "plt.legend()\n",
    "plt.grid(False)\n",
    "plt.show()"
   ]
  },
  {
   "cell_type": "markdown",
   "id": "14e33de8",
   "metadata": {},
   "source": [
    "## b)"
   ]
  },
  {
   "cell_type": "code",
   "execution_count": 71,
   "id": "64c949e3",
   "metadata": {},
   "outputs": [
    {
     "data": {
      "image/png": "[encoded data removed]",
      "text/plain": [
       "<Figure size 504x504 with 1 Axes>"
      ]
     },
     "metadata": {},
     "output_type": "display_data"
    }
   ],
   "source": [
    "points = 100 #Number of points in the graph\n",
    "\n",
    "#Generating white noise and choosing index\n",
    "epsilon_a = np.random.multivariate_normal([0,0],np.eye(2)/4,points)\n",
    "index_a = np.random.choice(np.arange(0,9,1),points)\n",
    "\n",
    "epsilon_b = np.random.multivariate_normal([0,0],np.eye(2)/4,points)\n",
    "index_b = np.random.choice(np.arange(0,9,1),points)\n",
    "\n",
    "#Generating our synthetic data\n",
    "x = np.concatenate((a[index_a] + epsilon_a,b[index_b] + epsilon_b),axis=0)\n",
    "\n",
    "#Plotting\n",
    "plt.scatter(x[:points][...,0],x[:points][...,1])\n",
    "plt.scatter(x[points:][...,0],x[points:][...,1])\n",
    "plt.grid(False)\n",
    "plt.show()"
   ]
  },
  {
   "cell_type": "markdown",
   "id": "052a6a03",
   "metadata": {},
   "source": [
    "## c)"
   ]
  },
  {
   "cell_type": "code",
   "execution_count": 72,
   "id": "f4d68b37",
   "metadata": {},
   "outputs": [],
   "source": [
    "y = np.concatenate((np.zeros(points),np.ones(points)))"
   ]
  },
  {
   "cell_type": "markdown",
   "id": "40802f5c",
   "metadata": {},
   "source": [
    "# Task 1.2"
   ]
  },
  {
   "cell_type": "code",
   "execution_count": 73,
   "id": "2af4d360",
   "metadata": {},
   "outputs": [],
   "source": [
    "'''\n",
    "We solve the LLS obtaining our parameters which produce the best fit. For this, x_mod is the \"modified\" data\n",
    "'''\n",
    "x_mod = np.concatenate((np.expand_dims(np.ones(len(x)),-1),x),axis=1)\n",
    "\n",
    "A,B = np.dot(np.transpose(x_mod),x_mod),np.dot(np.transpose(x_mod),y)\n",
    "alpha = np.dot(np.linalg.inv(A),B)\n",
    "\n",
    "\n",
    "'''\n",
    "We produce a mesh and use alpha to distinguish which points of it will correspond to which class.\n",
    "This part is just for plotting reasons.\n",
    "'''\n",
    "\n",
    "xx2, yy2 = np.meshgrid(np.arange(min(x[...,0])-1, max(x[...,0])+1, .01),\n",
    "                     np.arange(min(x[...,1])-1, max(x[...,1])+1, .01))\n",
    "\n",
    "mesh = np.c_[xx2.ravel(), yy2.ravel()]\n",
    "mesh = np.concatenate((np.expand_dims(np.ones(len(mesh)),-1),mesh),axis=1)\n",
    "mesh = np.array(np.sum(np.multiply(mesh,alpha),axis=1)<0.5,dtype ='int')\n",
    "mesh = mesh.reshape(xx2.shape)"
   ]
  },
  {
   "cell_type": "code",
   "execution_count": 74,
   "id": "c8f9c38a",
   "metadata": {},
   "outputs": [
    {
     "data": {
      "image/png": "[encoded data removed]",
      "text/plain": [
       "<Figure size 504x504 with 1 Axes>"
      ]
     },
     "metadata": {},
     "output_type": "display_data"
    }
   ],
   "source": [
    "'''\n",
    "Produce the requested plot showing the data points and the classification made by the LLS algorithm\n",
    "'''\n",
    "\n",
    "alp = np.trunc(100*alpha)/100\n",
    "\n",
    "plt.contourf(xx2, yy2, mesh, cmap=plt.cm.coolwarm, alpha=0.3)\n",
    "plt.scatter(x[:points][...,0],x[:points][...,1])\n",
    "plt.scatter(x[points:][...,0],x[points:][...,1])\n",
    "plt.xlabel('x1')\n",
    "plt.ylabel('x2')\n",
    "plt.title('Hyperplane H:' + str(alp[0]) +'+'+ str(alp[1]) +'x_1+'+str(alp[2]) +'x_2=0.5')\n",
    "plt.grid(False)\n",
    "plt.show()"
   ]
  },
  {
   "cell_type": "markdown",
   "id": "d7d2e1bd",
   "metadata": {},
   "source": [
    "# Task 1.3"
   ]
  },
  {
   "cell_type": "code",
   "execution_count": 75,
   "id": "d1803e51",
   "metadata": {},
   "outputs": [
    {
     "name": "stdout",
     "output_type": "stream",
     "text": [
      "0.97\n"
     ]
    }
   ],
   "source": [
    "'''\n",
    "Using the hypyerplane to classify the data we had and compute the confusion matrix\n",
    "'''\n",
    "\n",
    "classified = np.array(np.sum(np.multiply(x_mod,alpha),axis=1)>0.5,dtype ='int')\n",
    "C = np.zeros((2,2))\n",
    "\n",
    "for i in range(2):\n",
    "    for j in range(2):\n",
    "        C[i,j] = np.sum(np.logical_and(classified == i,y==j))\n",
    "        \n",
    "accuracy = np.trace(C)/np.sum(C)\n",
    "print(accuracy)"
   ]
  },
  {
   "cell_type": "markdown",
   "id": "bd55125a",
   "metadata": {},
   "source": [
    "# Task 1.4"
   ]
  },
  {
   "cell_type": "code",
   "execution_count": 76,
   "id": "a9d42e2e",
   "metadata": {},
   "outputs": [
    {
     "name": "stdout",
     "output_type": "stream",
     "text": [
      "0.91435\n"
     ]
    }
   ],
   "source": [
    "'''\n",
    "We generate test data as in 1.1. Then we classify the new data set.\n",
    "The accuracy for the test data is very close to that of the training data set\n",
    "\n",
    "'''\n",
    "\n",
    "points = 10000 \n",
    "\n",
    "epsilon_a = np.random.multivariate_normal([0,0],np.eye(2)/4,points)\n",
    "index_a = np.random.choice(np.arange(0,9,1),points)\n",
    "epsilon_b = np.random.multivariate_normal([0,0],np.eye(2)/4,points)\n",
    "index_b = np.random.choice(np.arange(0,9,1),points)\n",
    "\n",
    "x_test = np.concatenate((a[index_a] + epsilon_a,b[index_b] + epsilon_b),axis=0)\n",
    "y_test = np.concatenate((np.zeros(points),np.ones(points)))\n",
    "\n",
    "x_mod_test = np.concatenate((np.expand_dims(np.ones(len(x_test)),-1),x_test),axis=1)\n",
    "classified_test = np.array(np.sum(np.multiply(x_mod_test,alpha),axis=1)>0.5,dtype ='int')\n",
    "\n",
    "C_test = np.zeros((2,2))\n",
    "\n",
    "for i in range(2):\n",
    "    for j in range(2):\n",
    "        C_test[i,j] = np.sum(np.logical_and(classified_test == i,y_test==j))\n",
    "        \n",
    "accuracy_test = np.trace(C_test)/np.sum(C_test)\n",
    "print(accuracy_test)"
   ]
  },
  {
   "cell_type": "markdown",
   "id": "829969a7",
   "metadata": {},
   "source": [
    "We can notice the obtained accuracy from the exercise 1.3 is better than in this case."
   ]
  },
  {
   "cell_type": "markdown",
   "id": "7e37561b",
   "metadata": {},
   "source": [
    "# Taks 1.5"
   ]
  },
  {
   "cell_type": "code",
   "execution_count": 77,
   "id": "65069ce5",
   "metadata": {},
   "outputs": [
    {
     "data": {
      "text/html": [
       "<div>\n",
       "<style scoped>\n",
       "    .dataframe tbody tr th:only-of-type {\n",
       "        vertical-align: middle;\n",
       "    }\n",
       "\n",
       "    .dataframe tbody tr th {\n",
       "        vertical-align: top;\n",
       "    }\n",
       "\n",
       "    .dataframe thead th {\n",
       "        text-align: right;\n",
       "    }\n",
       "</style>\n",
       "<table border=\"1\" class=\"dataframe\">\n",
       "  <thead>\n",
       "    <tr style=\"text-align: right;\">\n",
       "      <th></th>\n",
       "      <th>5.1</th>\n",
       "      <th>3.5</th>\n",
       "      <th>1.4</th>\n",
       "      <th>0.2</th>\n",
       "      <th>Iris-setosa</th>\n",
       "    </tr>\n",
       "  </thead>\n",
       "  <tbody>\n",
       "    <tr>\n",
       "      <th>0</th>\n",
       "      <td>4.9</td>\n",
       "      <td>3.0</td>\n",
       "      <td>1.4</td>\n",
       "      <td>0.2</td>\n",
       "      <td>Iris-setosa</td>\n",
       "    </tr>\n",
       "    <tr>\n",
       "      <th>1</th>\n",
       "      <td>4.7</td>\n",
       "      <td>3.2</td>\n",
       "      <td>1.3</td>\n",
       "      <td>0.2</td>\n",
       "      <td>Iris-setosa</td>\n",
       "    </tr>\n",
       "    <tr>\n",
       "      <th>2</th>\n",
       "      <td>4.6</td>\n",
       "      <td>3.1</td>\n",
       "      <td>1.5</td>\n",
       "      <td>0.2</td>\n",
       "      <td>Iris-setosa</td>\n",
       "    </tr>\n",
       "    <tr>\n",
       "      <th>3</th>\n",
       "      <td>5.0</td>\n",
       "      <td>3.6</td>\n",
       "      <td>1.4</td>\n",
       "      <td>0.2</td>\n",
       "      <td>Iris-setosa</td>\n",
       "    </tr>\n",
       "    <tr>\n",
       "      <th>4</th>\n",
       "      <td>5.4</td>\n",
       "      <td>3.9</td>\n",
       "      <td>1.7</td>\n",
       "      <td>0.4</td>\n",
       "      <td>Iris-setosa</td>\n",
       "    </tr>\n",
       "    <tr>\n",
       "      <th>...</th>\n",
       "      <td>...</td>\n",
       "      <td>...</td>\n",
       "      <td>...</td>\n",
       "      <td>...</td>\n",
       "      <td>...</td>\n",
       "    </tr>\n",
       "    <tr>\n",
       "      <th>144</th>\n",
       "      <td>6.7</td>\n",
       "      <td>3.0</td>\n",
       "      <td>5.2</td>\n",
       "      <td>2.3</td>\n",
       "      <td>Iris-virginica</td>\n",
       "    </tr>\n",
       "    <tr>\n",
       "      <th>145</th>\n",
       "      <td>6.3</td>\n",
       "      <td>2.5</td>\n",
       "      <td>5.0</td>\n",
       "      <td>1.9</td>\n",
       "      <td>Iris-virginica</td>\n",
       "    </tr>\n",
       "    <tr>\n",
       "      <th>146</th>\n",
       "      <td>6.5</td>\n",
       "      <td>3.0</td>\n",
       "      <td>5.2</td>\n",
       "      <td>2.0</td>\n",
       "      <td>Iris-virginica</td>\n",
       "    </tr>\n",
       "    <tr>\n",
       "      <th>147</th>\n",
       "      <td>6.2</td>\n",
       "      <td>3.4</td>\n",
       "      <td>5.4</td>\n",
       "      <td>2.3</td>\n",
       "      <td>Iris-virginica</td>\n",
       "    </tr>\n",
       "    <tr>\n",
       "      <th>148</th>\n",
       "      <td>5.9</td>\n",
       "      <td>3.0</td>\n",
       "      <td>5.1</td>\n",
       "      <td>1.8</td>\n",
       "      <td>Iris-virginica</td>\n",
       "    </tr>\n",
       "  </tbody>\n",
       "</table>\n",
       "<p>149 rows × 5 columns</p>\n",
       "</div>"
      ],
      "text/plain": [
       "     5.1  3.5  1.4  0.2     Iris-setosa\n",
       "0    4.9  3.0  1.4  0.2     Iris-setosa\n",
       "1    4.7  3.2  1.3  0.2     Iris-setosa\n",
       "2    4.6  3.1  1.5  0.2     Iris-setosa\n",
       "3    5.0  3.6  1.4  0.2     Iris-setosa\n",
       "4    5.4  3.9  1.7  0.4     Iris-setosa\n",
       "..   ...  ...  ...  ...             ...\n",
       "144  6.7  3.0  5.2  2.3  Iris-virginica\n",
       "145  6.3  2.5  5.0  1.9  Iris-virginica\n",
       "146  6.5  3.0  5.2  2.0  Iris-virginica\n",
       "147  6.2  3.4  5.4  2.3  Iris-virginica\n",
       "148  5.9  3.0  5.1  1.8  Iris-virginica\n",
       "\n",
       "[149 rows x 5 columns]"
      ]
     },
     "execution_count": 77,
     "metadata": {},
     "output_type": "execute_result"
    }
   ],
   "source": [
    "import pandas as pd\n",
    "url = 'https://archive.ics.uci.edu/ml/machine-learning-databases/iris/iris.data '\n",
    "irisDataFrame = pd.read_csv(url)\n",
    "irisDataFrame"
   ]
  },
  {
   "cell_type": "markdown",
   "id": "e5b06410",
   "metadata": {},
   "source": [
    "## a)"
   ]
  },
  {
   "cell_type": "code",
   "execution_count": 78,
   "id": "b8e48765",
   "metadata": {},
   "outputs": [
    {
     "data": {
      "text/html": [
       "<div>\n",
       "<style scoped>\n",
       "    .dataframe tbody tr th:only-of-type {\n",
       "        vertical-align: middle;\n",
       "    }\n",
       "\n",
       "    .dataframe tbody tr th {\n",
       "        vertical-align: top;\n",
       "    }\n",
       "\n",
       "    .dataframe thead th {\n",
       "        text-align: right;\n",
       "    }\n",
       "</style>\n",
       "<table border=\"1\" class=\"dataframe\">\n",
       "  <thead>\n",
       "    <tr style=\"text-align: right;\">\n",
       "      <th></th>\n",
       "      <th>5.1</th>\n",
       "      <th>3.5</th>\n",
       "      <th>1.4</th>\n",
       "      <th>0.2</th>\n",
       "      <th>Iris-setosa</th>\n",
       "      <th>class</th>\n",
       "    </tr>\n",
       "  </thead>\n",
       "  <tbody>\n",
       "    <tr>\n",
       "      <th>0</th>\n",
       "      <td>4.9</td>\n",
       "      <td>3.0</td>\n",
       "      <td>1.4</td>\n",
       "      <td>0.2</td>\n",
       "      <td>Iris-setosa</td>\n",
       "      <td>0</td>\n",
       "    </tr>\n",
       "    <tr>\n",
       "      <th>1</th>\n",
       "      <td>4.7</td>\n",
       "      <td>3.2</td>\n",
       "      <td>1.3</td>\n",
       "      <td>0.2</td>\n",
       "      <td>Iris-setosa</td>\n",
       "      <td>0</td>\n",
       "    </tr>\n",
       "    <tr>\n",
       "      <th>2</th>\n",
       "      <td>4.6</td>\n",
       "      <td>3.1</td>\n",
       "      <td>1.5</td>\n",
       "      <td>0.2</td>\n",
       "      <td>Iris-setosa</td>\n",
       "      <td>0</td>\n",
       "    </tr>\n",
       "    <tr>\n",
       "      <th>3</th>\n",
       "      <td>5.0</td>\n",
       "      <td>3.6</td>\n",
       "      <td>1.4</td>\n",
       "      <td>0.2</td>\n",
       "      <td>Iris-setosa</td>\n",
       "      <td>0</td>\n",
       "    </tr>\n",
       "    <tr>\n",
       "      <th>4</th>\n",
       "      <td>5.4</td>\n",
       "      <td>3.9</td>\n",
       "      <td>1.7</td>\n",
       "      <td>0.4</td>\n",
       "      <td>Iris-setosa</td>\n",
       "      <td>0</td>\n",
       "    </tr>\n",
       "    <tr>\n",
       "      <th>...</th>\n",
       "      <td>...</td>\n",
       "      <td>...</td>\n",
       "      <td>...</td>\n",
       "      <td>...</td>\n",
       "      <td>...</td>\n",
       "      <td>...</td>\n",
       "    </tr>\n",
       "    <tr>\n",
       "      <th>144</th>\n",
       "      <td>6.7</td>\n",
       "      <td>3.0</td>\n",
       "      <td>5.2</td>\n",
       "      <td>2.3</td>\n",
       "      <td>Iris-virginica</td>\n",
       "      <td>1</td>\n",
       "    </tr>\n",
       "    <tr>\n",
       "      <th>145</th>\n",
       "      <td>6.3</td>\n",
       "      <td>2.5</td>\n",
       "      <td>5.0</td>\n",
       "      <td>1.9</td>\n",
       "      <td>Iris-virginica</td>\n",
       "      <td>1</td>\n",
       "    </tr>\n",
       "    <tr>\n",
       "      <th>146</th>\n",
       "      <td>6.5</td>\n",
       "      <td>3.0</td>\n",
       "      <td>5.2</td>\n",
       "      <td>2.0</td>\n",
       "      <td>Iris-virginica</td>\n",
       "      <td>1</td>\n",
       "    </tr>\n",
       "    <tr>\n",
       "      <th>147</th>\n",
       "      <td>6.2</td>\n",
       "      <td>3.4</td>\n",
       "      <td>5.4</td>\n",
       "      <td>2.3</td>\n",
       "      <td>Iris-virginica</td>\n",
       "      <td>1</td>\n",
       "    </tr>\n",
       "    <tr>\n",
       "      <th>148</th>\n",
       "      <td>5.9</td>\n",
       "      <td>3.0</td>\n",
       "      <td>5.1</td>\n",
       "      <td>1.8</td>\n",
       "      <td>Iris-virginica</td>\n",
       "      <td>1</td>\n",
       "    </tr>\n",
       "  </tbody>\n",
       "</table>\n",
       "<p>149 rows × 6 columns</p>\n",
       "</div>"
      ],
      "text/plain": [
       "     5.1  3.5  1.4  0.2     Iris-setosa  class\n",
       "0    4.9  3.0  1.4  0.2     Iris-setosa      0\n",
       "1    4.7  3.2  1.3  0.2     Iris-setosa      0\n",
       "2    4.6  3.1  1.5  0.2     Iris-setosa      0\n",
       "3    5.0  3.6  1.4  0.2     Iris-setosa      0\n",
       "4    5.4  3.9  1.7  0.4     Iris-setosa      0\n",
       "..   ...  ...  ...  ...             ...    ...\n",
       "144  6.7  3.0  5.2  2.3  Iris-virginica      1\n",
       "145  6.3  2.5  5.0  1.9  Iris-virginica      1\n",
       "146  6.5  3.0  5.2  2.0  Iris-virginica      1\n",
       "147  6.2  3.4  5.4  2.3  Iris-virginica      1\n",
       "148  5.9  3.0  5.1  1.8  Iris-virginica      1\n",
       "\n",
       "[149 rows x 6 columns]"
      ]
     },
     "execution_count": 78,
     "metadata": {},
     "output_type": "execute_result"
    }
   ],
   "source": [
    "'''\n",
    "Creating a new column with the labels\n",
    "'''\n",
    "\n",
    "irisDataFrame['class'] = np.array(np.array(irisDataFrame['Iris-setosa']) != 'Iris-setosa',dtype = 'int') \n",
    "\n",
    "irisDataFrame"
   ]
  },
  {
   "cell_type": "markdown",
   "id": "617ab6fd",
   "metadata": {},
   "source": [
    "### a.1)"
   ]
  },
  {
   "cell_type": "code",
   "execution_count": 79,
   "id": "64630ef7",
   "metadata": {},
   "outputs": [],
   "source": [
    "'''\n",
    "Reusing code from before\n",
    "'''\n",
    "\n",
    "x = np.array(np.array(irisDataFrame)[...,:2],dtype='float')\n",
    "x_mod = np.concatenate((np.expand_dims(np.ones(len(x)),-1),x),axis=1)\n",
    "y =np.array(irisDataFrame['class'])\n",
    "\n",
    "A,B = np.dot(np.transpose(x_mod),x_mod),np.dot(np.transpose(x_mod),y)\n",
    "alpha = np.dot(np.linalg.inv(A),B)\n"
   ]
  },
  {
   "cell_type": "code",
   "execution_count": 80,
   "id": "2eeffe2a",
   "metadata": {},
   "outputs": [
    {
     "data": {
      "image/png": "[encoded data removed]",
      "text/plain": [
       "<Figure size 504x504 with 1 Axes>"
      ]
     },
     "metadata": {},
     "output_type": "display_data"
    }
   ],
   "source": [
    "xx2, yy2 = np.meshgrid(np.arange(min(x[...,0])-1, max(x[...,0])+1, .01),\n",
    "                     np.arange(min(x[...,1])-1, max(x[...,1])+1, .01))\n",
    "\n",
    "mesh = np.c_[xx2.ravel(), yy2.ravel()]\n",
    "mesh = np.concatenate((np.expand_dims(np.ones(len(mesh)),-1),mesh),axis=1)\n",
    "mesh = np.array(np.sum(np.multiply(mesh,alpha),axis=1)<0.5,dtype ='int')\n",
    "mesh = mesh.reshape(xx2.shape)\n",
    "\n",
    "alp = np.trunc(100*alpha)/100\n",
    "\n",
    "plt.contourf(xx2, yy2, mesh, cmap=plt.cm.coolwarm, alpha=0.3)\n",
    "plt.scatter(x[y==0][...,0],x[y==0][...,1],label = ' Iris setosa')\n",
    "plt.scatter(x[y==1][...,0],x[y==1][...,1],label = 'Not iris setosa')\n",
    "plt.legend()\n",
    "plt.xlabel('x1')\n",
    "plt.ylabel('x2')\n",
    "plt.title('Hyperplane H:' + str(alp[0]) +'+'+ str(alp[1]) +'x_1+'+str(alp[2]) +'x_2=0.5')\n",
    "plt.grid(False)\n",
    "plt.show()"
   ]
  },
  {
   "cell_type": "markdown",
   "id": "06f6c765",
   "metadata": {},
   "source": [
    "### a.2)"
   ]
  },
  {
   "cell_type": "code",
   "execution_count": 81,
   "id": "3c0b2c56",
   "metadata": {},
   "outputs": [
    {
     "name": "stdout",
     "output_type": "stream",
     "text": [
      "1.0\n"
     ]
    }
   ],
   "source": [
    "'''\n",
    "Computing accuracy using all the information available.\n",
    "Analogous computations as before.\n",
    "'''\n",
    "\n",
    "x_full = np.array(np.array(irisDataFrame)[...,:-2],dtype='float')\n",
    "x_mod_full = np.concatenate((np.expand_dims(np.ones(len(x_full)),-1),x_full),axis=1)\n",
    "y =np.array(irisDataFrame['class'])\n",
    "\n",
    "A,B = np.dot(np.transpose(x_mod_full),x_mod_full),np.dot(np.transpose(x_mod_full),y)\n",
    "alpha_full = np.dot(np.linalg.inv(A),B)\n",
    "\n",
    "classified = np.array(np.sum(np.multiply(x_mod_full,alpha_full),axis=1)>0.5,dtype ='int')\n",
    "C = np.zeros((2,2))\n",
    "\n",
    "for i in range(2):\n",
    "    for j in range(2):\n",
    "        C[i,j] = np.sum(np.logical_and(classified == i,y==j))\n",
    "        \n",
    "accuracy = np.trace(C)/np.sum(C)\n",
    "print(accuracy)"
   ]
  },
  {
   "cell_type": "markdown",
   "id": "1d0c0bdb",
   "metadata": {},
   "source": [
    "## b)"
   ]
  },
  {
   "cell_type": "code",
   "execution_count": 82,
   "id": "0e7c927b",
   "metadata": {},
   "outputs": [
    {
     "data": {
      "text/html": [
       "<div>\n",
       "<style scoped>\n",
       "    .dataframe tbody tr th:only-of-type {\n",
       "        vertical-align: middle;\n",
       "    }\n",
       "\n",
       "    .dataframe tbody tr th {\n",
       "        vertical-align: top;\n",
       "    }\n",
       "\n",
       "    .dataframe thead th {\n",
       "        text-align: right;\n",
       "    }\n",
       "</style>\n",
       "<table border=\"1\" class=\"dataframe\">\n",
       "  <thead>\n",
       "    <tr style=\"text-align: right;\">\n",
       "      <th></th>\n",
       "      <th>5.1</th>\n",
       "      <th>3.5</th>\n",
       "      <th>1.4</th>\n",
       "      <th>0.2</th>\n",
       "      <th>Iris-setosa</th>\n",
       "      <th>class</th>\n",
       "    </tr>\n",
       "  </thead>\n",
       "  <tbody>\n",
       "    <tr>\n",
       "      <th>0</th>\n",
       "      <td>4.9</td>\n",
       "      <td>3.0</td>\n",
       "      <td>1.4</td>\n",
       "      <td>0.2</td>\n",
       "      <td>Iris-setosa</td>\n",
       "      <td>1</td>\n",
       "    </tr>\n",
       "    <tr>\n",
       "      <th>1</th>\n",
       "      <td>4.7</td>\n",
       "      <td>3.2</td>\n",
       "      <td>1.3</td>\n",
       "      <td>0.2</td>\n",
       "      <td>Iris-setosa</td>\n",
       "      <td>1</td>\n",
       "    </tr>\n",
       "    <tr>\n",
       "      <th>2</th>\n",
       "      <td>4.6</td>\n",
       "      <td>3.1</td>\n",
       "      <td>1.5</td>\n",
       "      <td>0.2</td>\n",
       "      <td>Iris-setosa</td>\n",
       "      <td>1</td>\n",
       "    </tr>\n",
       "    <tr>\n",
       "      <th>3</th>\n",
       "      <td>5.0</td>\n",
       "      <td>3.6</td>\n",
       "      <td>1.4</td>\n",
       "      <td>0.2</td>\n",
       "      <td>Iris-setosa</td>\n",
       "      <td>1</td>\n",
       "    </tr>\n",
       "    <tr>\n",
       "      <th>4</th>\n",
       "      <td>5.4</td>\n",
       "      <td>3.9</td>\n",
       "      <td>1.7</td>\n",
       "      <td>0.4</td>\n",
       "      <td>Iris-setosa</td>\n",
       "      <td>1</td>\n",
       "    </tr>\n",
       "    <tr>\n",
       "      <th>...</th>\n",
       "      <td>...</td>\n",
       "      <td>...</td>\n",
       "      <td>...</td>\n",
       "      <td>...</td>\n",
       "      <td>...</td>\n",
       "      <td>...</td>\n",
       "    </tr>\n",
       "    <tr>\n",
       "      <th>144</th>\n",
       "      <td>6.7</td>\n",
       "      <td>3.0</td>\n",
       "      <td>5.2</td>\n",
       "      <td>2.3</td>\n",
       "      <td>Iris-virginica</td>\n",
       "      <td>1</td>\n",
       "    </tr>\n",
       "    <tr>\n",
       "      <th>145</th>\n",
       "      <td>6.3</td>\n",
       "      <td>2.5</td>\n",
       "      <td>5.0</td>\n",
       "      <td>1.9</td>\n",
       "      <td>Iris-virginica</td>\n",
       "      <td>1</td>\n",
       "    </tr>\n",
       "    <tr>\n",
       "      <th>146</th>\n",
       "      <td>6.5</td>\n",
       "      <td>3.0</td>\n",
       "      <td>5.2</td>\n",
       "      <td>2.0</td>\n",
       "      <td>Iris-virginica</td>\n",
       "      <td>1</td>\n",
       "    </tr>\n",
       "    <tr>\n",
       "      <th>147</th>\n",
       "      <td>6.2</td>\n",
       "      <td>3.4</td>\n",
       "      <td>5.4</td>\n",
       "      <td>2.3</td>\n",
       "      <td>Iris-virginica</td>\n",
       "      <td>1</td>\n",
       "    </tr>\n",
       "    <tr>\n",
       "      <th>148</th>\n",
       "      <td>5.9</td>\n",
       "      <td>3.0</td>\n",
       "      <td>5.1</td>\n",
       "      <td>1.8</td>\n",
       "      <td>Iris-virginica</td>\n",
       "      <td>1</td>\n",
       "    </tr>\n",
       "  </tbody>\n",
       "</table>\n",
       "<p>149 rows × 6 columns</p>\n",
       "</div>"
      ],
      "text/plain": [
       "     5.1  3.5  1.4  0.2     Iris-setosa  class\n",
       "0    4.9  3.0  1.4  0.2     Iris-setosa      1\n",
       "1    4.7  3.2  1.3  0.2     Iris-setosa      1\n",
       "2    4.6  3.1  1.5  0.2     Iris-setosa      1\n",
       "3    5.0  3.6  1.4  0.2     Iris-setosa      1\n",
       "4    5.4  3.9  1.7  0.4     Iris-setosa      1\n",
       "..   ...  ...  ...  ...             ...    ...\n",
       "144  6.7  3.0  5.2  2.3  Iris-virginica      1\n",
       "145  6.3  2.5  5.0  1.9  Iris-virginica      1\n",
       "146  6.5  3.0  5.2  2.0  Iris-virginica      1\n",
       "147  6.2  3.4  5.4  2.3  Iris-virginica      1\n",
       "148  5.9  3.0  5.1  1.8  Iris-virginica      1\n",
       "\n",
       "[149 rows x 6 columns]"
      ]
     },
     "execution_count": 82,
     "metadata": {},
     "output_type": "execute_result"
    }
   ],
   "source": [
    "irisDataFrame['class'] = np.array(np.array(irisDataFrame['Iris-setosa']) != 'Iris-versicolor',dtype = 'int') \n",
    "\n",
    "irisDataFrame"
   ]
  },
  {
   "cell_type": "markdown",
   "id": "76ce46ea",
   "metadata": {},
   "source": [
    "### b.1)"
   ]
  },
  {
   "cell_type": "code",
   "execution_count": 83,
   "id": "66d5e91a",
   "metadata": {},
   "outputs": [
    {
     "data": {
      "image/png": "[encoded data removed]",
      "text/plain": [
       "<Figure size 504x504 with 1 Axes>"
      ]
     },
     "metadata": {},
     "output_type": "display_data"
    }
   ],
   "source": [
    "'''\n",
    "Using hyperplanes to classify Iris versicolor.\n",
    "'''\n",
    "\n",
    "x = np.array(np.array(irisDataFrame)[...,:2],dtype='float')\n",
    "x_mod = np.concatenate((np.expand_dims(np.ones(len(x)),-1),x),axis=1)\n",
    "y =np.array(irisDataFrame['class'])\n",
    "\n",
    "A,B = np.dot(np.transpose(x_mod),x_mod),np.dot(np.transpose(x_mod),y)\n",
    "alpha = np.dot(np.linalg.inv(A),B)\n",
    "\n",
    "xx2, yy2 = np.meshgrid(np.arange(min(x[...,0])-1, max(x[...,0])+1, .01),\n",
    "                     np.arange(min(x[...,1])-1, max(x[...,1])+1, .01))\n",
    "\n",
    "mesh = np.c_[xx2.ravel(), yy2.ravel()]\n",
    "mesh = np.concatenate((np.expand_dims(np.ones(len(mesh)),-1),mesh),axis=1)\n",
    "mesh = np.array(np.sum(np.multiply(mesh,alpha),axis=1)<0.5,dtype ='int')\n",
    "mesh = mesh.reshape(xx2.shape)\n",
    "\n",
    "alp = np.trunc(100*alpha)/100\n",
    "\n",
    "plt.contourf(xx2, yy2, mesh, cmap=plt.cm.coolwarm, alpha=0.3)\n",
    "plt.scatter(x[y==0][...,0],x[y==0][...,1],label = ' Iris versicolor')\n",
    "plt.scatter(x[y==1][...,0],x[y==1][...,1],label = 'Not iris versicolor')\n",
    "plt.legend()\n",
    "plt.xlabel('x1')\n",
    "plt.ylabel('x2')\n",
    "plt.title('Hyperplane H:' + str(alp[0]) +'+'+ str(alp[1]) +'x_1+'+str(alp[2]) +'x_2=0.5')\n",
    "plt.grid(False)\n",
    "plt.show()"
   ]
  },
  {
   "cell_type": "markdown",
   "id": "caa5eea9",
   "metadata": {},
   "source": [
    "### b.2)"
   ]
  },
  {
   "cell_type": "code",
   "execution_count": 84,
   "id": "c2907b41",
   "metadata": {},
   "outputs": [
    {
     "name": "stdout",
     "output_type": "stream",
     "text": [
      "0.738255033557047\n"
     ]
    }
   ],
   "source": [
    "'''\n",
    "Computing accuracy for classification of Iris versicolor using all the information we have.\n",
    "'''\n",
    "\n",
    "x_full = np.array(np.array(irisDataFrame)[...,:-2],dtype='float')\n",
    "x_mod_full = np.concatenate((np.expand_dims(np.ones(len(x_full)),-1),x_full),axis=1)\n",
    "y =np.array(irisDataFrame['class'])\n",
    "\n",
    "A,B = np.dot(np.transpose(x_mod_full),x_mod_full),np.dot(np.transpose(x_mod_full),y)\n",
    "alpha_full = np.dot(np.linalg.inv(A),B)\n",
    "\n",
    "classified = np.array(np.sum(np.multiply(x_mod_full,alpha_full),axis=1)>0.5,dtype ='int')\n",
    "C = np.zeros((2,2))\n",
    "\n",
    "for i in range(2):\n",
    "    for j in range(2):\n",
    "        C[i,j] = np.sum(np.logical_and(classified == i,y==j))\n",
    "        \n",
    "accuracy = np.trace(C)/np.sum(C)\n",
    "print(accuracy)"
   ]
  },
  {
   "cell_type": "markdown",
   "id": "274662dd",
   "metadata": {},
   "source": [
    "We can see that in the second case the LLS method doesn't perfom well. The accuracy is significantly worse than in the first example."
   ]
  },
  {
   "cell_type": "markdown",
   "id": "2881d266",
   "metadata": {},
   "source": [
    "# Task 1.6"
   ]
  },
  {
   "cell_type": "code",
   "execution_count": 85,
   "id": "8ba49e6b",
   "metadata": {},
   "outputs": [],
   "source": [
    "'''\n",
    "Defining gradient and loss function\n",
    "'''\n",
    "\n",
    "def grad(alpha,x,y):\n",
    "    return 2*np.sum(np.multiply(np.dot(alpha,np.transpose(x))-y,np.transpose(x)),axis=1)/len(y)\n",
    "\n",
    "def J(alpha,x,y):\n",
    "    return np.sum(np.power(np.dot(alpha,np.transpose(x))-y,2))/len(y)"
   ]
  },
  {
   "cell_type": "code",
   "execution_count": 86,
   "id": "330a9bcb",
   "metadata": {
    "scrolled": false
   },
   "outputs": [
    {
     "data": {
      "image/png": "[encoded data removed]",
      "text/plain": [
       "<Figure size 504x504 with 1 Axes>"
      ]
     },
     "metadata": {},
     "output_type": "display_data"
    }
   ],
   "source": [
    "'''\n",
    "First we look at different values nu can take from the list given on the description of the task and we stopped\n",
    "trying out values when we found one for which the gradient descent did not converged.\n",
    "\n",
    "Then, we used the value of nu we found to plot the evolution of the error function against the number of iteration.\n",
    "'''\n",
    "\n",
    "irisDataFrame = pd.read_csv(url)\n",
    "irisDataFrame['class'] = np.array(np.array(irisDataFrame['Iris-setosa']) != 'Iris-setosa',dtype = 'int') \n",
    "x = np.array(np.array(irisDataFrame)[...,:2],dtype='float')\n",
    "x_mod = np.concatenate((np.expand_dims(np.ones(len(x)),-1),x),axis=1)\n",
    "y =np.array(irisDataFrame['class'])\n",
    "\n",
    "A,B = np.dot(np.transpose(x_mod),x_mod),np.dot(np.transpose(x_mod),y)\n",
    "alpha = np.dot(np.linalg.inv(A),B)\n",
    "\n",
    "\n",
    "max_step = 100000\n",
    "converged = 1.01*J(alpha,x_mod,y)\n",
    "options = 0.1**(np.arange(0,4,1)[::-1])\n",
    "nu_good = 1e-16\n",
    "\n",
    "for ind,nu in enumerate(options):\n",
    "\n",
    "    dx = 2*converged\n",
    "    step = 0\n",
    "    alpha_grad = 0.5*np.ones(len(x_mod[0]))\n",
    "\n",
    "    while (dx > converged) and (step < max_step):   \n",
    "        \n",
    "        if dx > 1e10:\n",
    "            break\n",
    "            \n",
    "        alpha_grad = alpha_grad - nu*grad(alpha_grad,x_mod,y)\n",
    "        dx = J(alpha_grad,x_mod,y)\n",
    "        step += 1\n",
    "    \n",
    "    if dx > converged:\n",
    "        break\n",
    "    else:\n",
    "        nu_good = nu\n",
    "        \n",
    "        \n",
    "nu = int(nu_good*1e5)/1e5\n",
    "error = []\n",
    "dx = 2*converged\n",
    "step = 0\n",
    "alpha_grad = 0.5*np.ones(len(x_mod[0]))\n",
    "\n",
    "while (dx > converged) and (step < max_step):   \n",
    "\n",
    "    alpha_grad = alpha_grad - nu*grad(alpha_grad,x_mod,y)\n",
    "    dx = J(alpha_grad,x_mod,y)\n",
    "    error.append(dx)\n",
    "    step += 1\n",
    "    \n",
    "plt.plot(np.arange(1,len(error),1),error[1:],label = \"nu value = \"+ str(nu))\n",
    "plt.title(\"Error behavior under gradient descent method\")\n",
    "plt.xlabel(\"Iteration\")\n",
    "plt.ylabel(\"Value of J\")\n",
    "plt.legend()\n",
    "plt.show()"
   ]
  },
  {
   "cell_type": "markdown",
   "id": "750b9778",
   "metadata": {},
   "source": [
    "We can notice among first 300 iterations of the algorithm the error (value of J) decreases significantly. However, in the later iterations the error reduction is not really observable and the J even stabilizes. "
   ]
  },
  {
   "cell_type": "markdown",
   "id": "db9123f7",
   "metadata": {},
   "source": [
    "# Task 1.7"
   ]
  },
  {
   "cell_type": "code",
   "execution_count": 87,
   "id": "96cf2667",
   "metadata": {},
   "outputs": [
    {
     "data": {
      "image/png": "[encoded data removed]",
      "text/plain": [
       "<Figure size 504x504 with 1 Axes>"
      ]
     },
     "metadata": {},
     "output_type": "display_data"
    }
   ],
   "source": [
    "'''\n",
    "Same procedure as in task 1.6, but applied to normalized data and with a plot to compare thir first 100 iterations\n",
    "at the end.\n",
    "'''\n",
    "\n",
    "irisDataFrame = pd.read_csv(url)\n",
    "irisDataFrame['class'] = np.array(np.array(irisDataFrame['Iris-setosa']) != 'Iris-setosa',dtype = 'int') \n",
    "x = np.array(np.array(irisDataFrame)[...,:2],dtype='float')\n",
    "y =np.array(irisDataFrame['class'])\n",
    "\n",
    "x = (x - np.mean(x,axis=0))/np.std(x,axis=0)\n",
    "x_norm = np.concatenate((np.expand_dims(np.ones(len(x)),-1),x),axis=1)\n",
    "\n",
    "max_step = 100000\n",
    "converged = 1.01*J(alpha,x_mod,y)\n",
    "options = 0.1**(np.arange(0,4,1)[::-1])\n",
    "nu_good = 1e-16\n",
    "\n",
    "for ind,nu in enumerate(options):\n",
    "\n",
    "    dx = 2*converged\n",
    "    step = 0\n",
    "    alpha_grad = 0.5*np.ones(len(x_mod[0]))\n",
    "\n",
    "    while (dx > converged) and (step < max_step):   \n",
    "        \n",
    "        if dx > 1e10:\n",
    "            break\n",
    "            \n",
    "        alpha_grad = alpha_grad - nu*grad(alpha_grad,x_norm,y)\n",
    "        dx = J(alpha_grad,x_norm,y)\n",
    "        step += 1\n",
    "\n",
    "    if dx > converged:\n",
    "        break\n",
    "    else:\n",
    "        nu_good = nu\n",
    "        \n",
    "        \n",
    "nu = int(nu_good*1e5)/1e5\n",
    "error_norm = []\n",
    "max_step = 100\n",
    "step = 0\n",
    "alpha_grad = 0.5*np.ones(len(x_mod[0]))\n",
    "  \n",
    "for it in range(100):\n",
    "\n",
    "    alpha_grad = alpha_grad - nu*grad(alpha_grad,x_norm,y)\n",
    "    dx = J(alpha_grad,x_norm,y)\n",
    "    error_norm.append(dx)\n",
    "    step += 1\n",
    "    \n",
    "plt.plot(np.arange(0,len(error_norm),1),error_norm,label = \"normalized\")\n",
    "plt.plot(np.arange(0,100,1),error[:100],label = \"non normalized\")\n",
    "plt.title(\"Normalized vs. non normilized performance\")\n",
    "plt.xlabel(\"Iteration\")\n",
    "plt.ylabel(\"Value of J\")\n",
    "plt.legend()\n",
    "plt.show()"
   ]
  },
  {
   "cell_type": "markdown",
   "id": "e52d9946",
   "metadata": {},
   "source": [
    "We can observe that in the normalized case the loss function curve decreases and stabilizes way more faster. It takes it about 10 iterations to get to the stabilization level. "
   ]
  },
  {
   "cell_type": "markdown",
   "id": "71c50707",
   "metadata": {},
   "source": [
    "# Task 1.8"
   ]
  },
  {
   "cell_type": "code",
   "execution_count": 88,
   "id": "e5570c5c",
   "metadata": {},
   "outputs": [],
   "source": [
    "from scipy.spatial.distance import cdist"
   ]
  },
  {
   "cell_type": "code",
   "execution_count": 89,
   "id": "d76d0b66",
   "metadata": {},
   "outputs": [],
   "source": [
    "'''\n",
    "Generation of the random data.\n",
    "'''\n",
    "\n",
    "a = np.random.multivariate_normal([3/2,0],np.eye(2),10)\n",
    "b = np.random.multivariate_normal([0,3/2],np.eye(2),10)\n",
    "\n",
    "points = 100\n",
    "epsilon_a = np.random.multivariate_normal([0,0],np.eye(2)/4,points)\n",
    "index_a = np.random.choice(np.arange(0,9,1),points)\n",
    "\n",
    "epsilon_b = np.random.multivariate_normal([0,0],np.eye(2)/4,points)\n",
    "index_b = np.random.choice(np.arange(0,9,1),points)\n",
    "\n",
    "x = np.concatenate((a[index_a] + epsilon_a,b[index_b] + epsilon_b),axis=0)\n",
    "y = np.concatenate((np.zeros(points),np.ones(points)))"
   ]
  },
  {
   "cell_type": "code",
   "execution_count": 90,
   "id": "be5853be",
   "metadata": {},
   "outputs": [
    {
     "name": "stdout",
     "output_type": "stream",
     "text": [
      "accuracy of knn using k =  1 : 1.0\n",
      "accuracy of knn using k =  15 : 0.95\n",
      "accuracy of knn using k =  30 : 0.955\n"
     ]
    }
   ],
   "source": [
    "'''\n",
    "Computation of the accuracy of knn for different values of k.\n",
    "'''\n",
    "\n",
    "for k in [1,15,30]:\n",
    "\n",
    "    dists = cdist(x,x)\n",
    "    idx = np.argpartition(dists, k, axis=0)[:k]\n",
    "    nearest_dists = np.take(y, idx)\n",
    "    classified = 1*((np.sum(nearest_dists,axis=0)/k) > 0.5)\n",
    "\n",
    "    C = np.zeros((2,2))\n",
    "    \n",
    "    for i in range(2):\n",
    "        for j in range(2):\n",
    "            C[i,j] = np.sum(np.logical_and(classified == i,y==j))\n",
    "\n",
    "    print(\"accuracy of knn using k = \",k,\":\",np.trace(C)/np.sum(C))"
   ]
  },
  {
   "cell_type": "code",
   "execution_count": 91,
   "id": "d84636e7",
   "metadata": {},
   "outputs": [
    {
     "data": {
      "image/png": "[encoded data removed]",
      "text/plain": [
       "<Figure size 1080x504 with 3 Axes>"
      ]
     },
     "metadata": {},
     "output_type": "display_data"
    }
   ],
   "source": [
    "'''\n",
    "Plot for the separation levels for different values of k\n",
    "'''\n",
    "\n",
    "fig,axs = plt.subplots(nrows=1, ncols=3,figsize=(15,7))\n",
    "ks = [1,15,30]\n",
    "xx2, yy2 = np.meshgrid(np.arange(min(x[...,0])-1, max(x[...,0])+1, .01),\n",
    "                     np.arange(min(x[...,1])-1, max(x[...,1])+1, .01))\n",
    "\n",
    "for entry in range(len(ks)):\n",
    "    k = ks[entry]\n",
    "\n",
    "    mesh = np.c_[xx2.ravel(), yy2.ravel()]\n",
    "\n",
    "    dists = cdist(x,mesh)\n",
    "    idx = np.argpartition(dists, k, axis=0)[:k]\n",
    "    nearest_dists = np.take(y, idx)\n",
    "    mesh = 1*((np.sum(nearest_dists,axis=0)/k) < 0.5)\n",
    "    mesh = mesh.reshape(xx2.shape)\n",
    "    \n",
    "    axs[entry].contourf(xx2, yy2, mesh, cmap=plt.cm.coolwarm, alpha=0.3)\n",
    "    axs[entry].scatter(x[...,0][:points],x[...,1][:points],label = \"a\")\n",
    "    axs[entry].scatter(x[...,0][points:],x[...,1][points:],label = \"b\")\n",
    "    axs[entry].legend()\n",
    "    axs[entry].set_title(\"k = \" + str(k))\n",
    "    axs[entry].grid(False)\n",
    "\n",
    "plt.show()"
   ]
  },
  {
   "cell_type": "markdown",
   "id": "27cf7a1e",
   "metadata": {},
   "source": [
    "# Task 1.9"
   ]
  },
  {
   "cell_type": "markdown",
   "id": "3e9febd6",
   "metadata": {},
   "source": [
    "## a)"
   ]
  },
  {
   "cell_type": "code",
   "execution_count": 92,
   "id": "80db5899",
   "metadata": {},
   "outputs": [],
   "source": [
    "'''\n",
    "Using the knn algorithm taking the traning data equal to the test data. \n",
    "'''\n",
    "\n",
    "a = np.random.multivariate_normal([3/2,0],np.eye(2),10)\n",
    "b = np.random.multivariate_normal([0,3/2],np.eye(2),10)\n",
    "\n",
    "points = 100\n",
    "epsilon_a = np.random.multivariate_normal([0,0],np.eye(2)/4,points)\n",
    "index_a = np.random.choice(np.arange(0,9,1),points)\n",
    "\n",
    "epsilon_b = np.random.multivariate_normal([0,0],np.eye(2)/4,points)\n",
    "index_b = np.random.choice(np.arange(0,9,1),points)\n",
    "\n",
    "x = np.concatenate((a[index_a] + epsilon_a,b[index_b] + epsilon_b),axis=0)\n",
    "y = np.concatenate((np.zeros(points),np.ones(points)))\n",
    "accuracy_self = []\n",
    "\n",
    "for k in np.arange(1,201,1):\n",
    "\n",
    "    dists = cdist(x,x)\n",
    "    idx = np.argpartition(dists, min(len(dists)-1,k), axis=0)[:min(len(dists)-1,k)]\n",
    "    nearest_dists = np.take(y, idx)\n",
    "    classified = 1*((np.sum(nearest_dists,axis=0)/k) > 0.5)\n",
    "\n",
    "    C = np.zeros((2,2))\n",
    "\n",
    "    for i in range(2):\n",
    "        for j in range(2):\n",
    "            C[i,j] = np.sum(np.logical_and(classified == i,y==j))\n",
    "\n",
    "    accuracy_self.append(np.trace(C)/np.sum(C))"
   ]
  },
  {
   "cell_type": "markdown",
   "id": "e6c82042",
   "metadata": {},
   "source": [
    "## b)"
   ]
  },
  {
   "cell_type": "code",
   "execution_count": 93,
   "id": "3d60fe8c",
   "metadata": {},
   "outputs": [],
   "source": [
    "'''\n",
    "Applying knn algorithm taking test data different from training data.\n",
    "'''\n",
    "\n",
    "points = 10000 \n",
    "\n",
    "epsilon_a = np.random.multivariate_normal([0,0],np.eye(2)/4,points)\n",
    "index_a = np.random.choice(np.arange(0,9,1),points)\n",
    "epsilon_b = np.random.multivariate_normal([0,0],np.eye(2)/4,points)\n",
    "index_b = np.random.choice(np.arange(0,9,1),points)\n",
    "\n",
    "x_test = np.concatenate((a[index_a] + epsilon_a,b[index_b] + epsilon_b),axis=0)\n",
    "y_test = np.concatenate((np.zeros(points),np.ones(points)))\n",
    "\n",
    "accuracy_test = []\n",
    "\n",
    "for k in np.arange(1,201,1):\n",
    "\n",
    "    dists = cdist(x,x_test)\n",
    "    idx = np.argpartition(dists, min(len(dists)-1,k), axis=0)[:min(len(dists)-1,k)]\n",
    "    nearest_dists = np.take(y, idx)\n",
    "    classified = 1*((np.sum(nearest_dists,axis=0)/k) > 0.5)\n",
    "\n",
    "    C = np.zeros((2,2))\n",
    "\n",
    "    for i in range(2):\n",
    "        for j in range(2):\n",
    "            C[i,j] = np.sum(np.logical_and(classified == i,y_test==j))\n",
    "\n",
    "    accuracy_test.append(np.trace(C)/np.sum(C))\n"
   ]
  },
  {
   "cell_type": "markdown",
   "id": "3e29a8a3",
   "metadata": {},
   "source": [
    "## c)"
   ]
  },
  {
   "cell_type": "code",
   "execution_count": 94,
   "id": "5cbd635b",
   "metadata": {},
   "outputs": [
    {
     "data": {
      "image/png": "[encoded data removed]",
      "text/plain": [
       "<Figure size 504x504 with 1 Axes>"
      ]
     },
     "metadata": {},
     "output_type": "display_data"
    }
   ],
   "source": [
    "'''\n",
    "Plotting the accuracies changing the test data.\n",
    "'''\n",
    "\n",
    "plt.plot(np.arange(1,201,1),accuracy_self,label=\"self\")\n",
    "plt.plot(np.arange(1,201,1),accuracy_test,label=\"test data\")\n",
    "plt.title(\"Accuracy vs. k\")\n",
    "plt.xlabel(\"k\")\n",
    "plt.ylabel(\"Accuracy\")\n",
    "plt.legend()\n",
    "plt.show()"
   ]
  },
  {
   "cell_type": "markdown",
   "id": "38cd052a",
   "metadata": {},
   "source": [
    "We can notice that for increasing k the accuracy of the training data decreases to a certain level rapidly and then varies with a small tendence to decrease. For the accuracy of test data we can observe long time stabilization and then sudden, enormous fall of it."
   ]
  }
 ],
 "metadata": {
  "kernelspec": {
   "display_name": "Python 3 (ipykernel)",
   "language": "python",
   "name": "python3"
  },
  "language_info": {
   "codemirror_mode": {
    "name": "ipython",
    "version": 3
   },
   "file_extension": ".py",
   "mimetype": "text/x-python",
   "name": "python",
   "nbconvert_exporter": "python",
   "pygments_lexer": "ipython3",
   "version": "3.9.7"
  }
 },
 "nbformat": 4,
 "nbformat_minor": 5
}
